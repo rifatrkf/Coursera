{
 "cells": [
  {
   "cell_type": "markdown",
   "metadata": {},
   "source": [
    "<p style=\"text-align:center\">\n",
    "    <a href=\"https://skills.network/?utm_medium=Exinfluencer&utm_source=Exinfluencer&utm_content=000026UJ&utm_term=10006555&utm_id=NA-SkillsNetwork-Channel-SkillsNetworkCoursesIBMDeveloperSkillsNetworkPY0221ENSkillsNetwork23455645-2022-01-01\" target=\"_blank\">\n",
    "    <img src=\"https://cf-courses-data.s3.us.cloud-object-storage.appdomain.cloud/assets/logos/SN_web_lightmode.png\" width=\"200\" alt=\"Skills Network Logo\"  />\n",
    "    </a>\n",
    "</p>\n"
   ]
  },
  {
   "cell_type": "markdown",
   "metadata": {},
   "source": [
    "# Peer Review Assignment - Data Engineer - Extract API Data\n"
   ]
  },
  {
   "cell_type": "markdown",
   "metadata": {},
   "source": [
    "Estimated time needed: **20** minutes\n"
   ]
  },
  {
   "cell_type": "markdown",
   "metadata": {},
   "source": [
    "## Objectives\n",
    "\n",
    "In this part you will:\n",
    "\n",
    "*   Collect exchange rate data using an API\n",
    "*   Store the data as a CSV\n"
   ]
  },
  {
   "cell_type": "markdown",
   "metadata": {},
   "source": [
    "For this lab, we are going to be using Python and several Python libraries. Some of these libraries might be installed in your lab environment or in SN Labs. Others may need to be installed by you. The cells below will install these libraries when executed.\n"
   ]
  },
  {
   "cell_type": "code",
   "execution_count": null,
   "metadata": {},
   "outputs": [],
   "source": [
    "#!mamba install pandas==1.3.3 -y\n",
    "#!mamba install requests==2.26.0 -y"
   ]
  },
  {
   "cell_type": "markdown",
   "metadata": {},
   "source": [
    "## Imports\n",
    "\n",
    "Import any additional libraries you may need here.\n"
   ]
  },
  {
   "cell_type": "code",
   "execution_count": 1,
   "metadata": {},
   "outputs": [],
   "source": [
    "import requests\n",
    "import pandas as pd"
   ]
  },
  {
   "cell_type": "markdown",
   "metadata": {},
   "source": [
    "## Extract Data Using an API\n"
   ]
  },
  {
   "cell_type": "markdown",
   "metadata": {},
   "source": [
    "Using ExchangeRate-API we will extract currency exchange rate data. Use the below steps to get the access key and to get the data.\n",
    "\n",
    "1.  Open the url : [https://exchangeratesapi.io/](https://exchangeratesapi.io/?utm_medium=Exinfluencer&utm_source=Exinfluencer&utm_content=000026UJ&utm_term=10006555&utm_id=NA-SkillsNetwork-Channel-SkillsNetworkCoursesIBMDeveloperSkillsNetworkPY0221ENSkillsNetwork23455645-2022-01-01) and click on **Get Free API Key**.\n",
    "2.  Subscribe for Free plan and Sign-in with the Google Account.\n",
    "3.  Once the account is created you will be redirected to [https://apilayer.com](https://apilayer.com/?utm_medium=Exinfluencer&utm_source=Exinfluencer&utm_content=000026UJ&utm_term=10006555&utm_id=NA-SkillsNetwork-Channel-SkillsNetworkCoursesIBMDeveloperSkillsNetworkPY0221ENSkillsNetwork23455645-2022-01-01) website.\n",
    "4.  Now, click on the **user icon** and click **Account** as shown below:\n",
    "\n",
    "<img src=\"https://cf-courses-data.s3.us.cloud-object-storage.appdomain.cloud/IBMDeveloperSkillsNetwork-PY0221EN-SkillsNetwork/labs/module%206/Final%20Assignment/Images/account.png\"/>\n",
    "\n",
    "3.  Scroll down and you will get the API Key section. Copy the API key and use in the url in Question 1.\n"
   ]
  },
  {
   "cell_type": "markdown",
   "metadata": {},
   "source": [
    "### Call the API\n",
    "\n",
    "<b> Question 1</b> Using the `requests` library call the endpoint given above and save the text, remember the first few characters of the output:\n"
   ]
  },
  {
   "cell_type": "code",
   "execution_count": 7,
   "metadata": {},
   "outputs": [
    {
     "name": "stdout",
     "output_type": "stream",
     "text": [
      "{\n",
      "    \"success\": true,\n",
      "    \"timestamp\": 1658976063,\n",
      "    \"base\": \"EUR\",\n",
      "    \"date\": \"2022-07-28\",\n",
      "    \"rates\": {\n",
      "        \"AED\": 3.747542,\n",
      "        \"AFN\": 92.071539,\n",
      "        \"ALL\": 116.854655,\n",
      "        \"AMD\": 413.442826,\n",
      "        \"ANG\": 1.832482,\n",
      "        \"AOA\": 442.068898,\n",
      "        \"ARS\": 133.552271,\n",
      "        \"AUD\": 1.46035,\n",
      "        \"AWG\": 1.836482,\n",
      "        \"AZN\": 1.734532,\n",
      "        \"BAM\": 1.958619,\n",
      "        \"BBD\": 2.052993,\n",
      "        \"BDT\": 96.317149,\n",
      "        \"BGN\": 1.956226,\n",
      "        \"BHD\": 0.384616,\n",
      "        \"BIF\": 2094.602476,\n",
      "        \"BMD\": 1.020268,\n",
      "        \"BND\": 1.410601,\n",
      "        \"BOB\": 6.99059,\n",
      "        \"BRL\": 5.350791,\n",
      "        \"BSD\": 1.016733,\n",
      "        \"BTC\": 4.4721466e-05,\n",
      "        \"BTN\": 81.223129,\n",
      "        \"BWP\": 12.887059,\n",
      "        \"BYN\": 2.566917,\n",
      "        \"BYR\": 19997.245277,\n",
      "        \"BZD\": 2.049488,\n",
      "        \"CAD\": 1.308631,\n",
      "        \"CDF\": 2043.086074,\n",
      "        \"CHF\": 0.977855,\n",
      "        \"CLF\": 0.033657,\n",
      "        \"CLP\": 928.698785,\n",
      "        \"CNY\": 6.884149,\n",
      "        \"COP\": 4519.418243,\n",
      "        \"CRC\": 681.747304,\n",
      "        \"CUC\": 1.020268,\n",
      "        \"CUP\": 27.037092,\n",
      "        \"CVE\": 110.424382,\n",
      "        \"CZK\": 24.550678,\n",
      "        \"DJF\": 181.015061,\n",
      "        \"DKK\": 7.444576,\n",
      "        \"DOP\": 55.26241,\n",
      "        \"DZD\": 149.248028,\n",
      "        \"EGP\": 19.319686,\n",
      "        \"ERN\": 15.304014,\n",
      "        \"ETB\": 53.494601,\n",
      "        \"EUR\": 1,\n",
      "        \"FJD\": 2.253746,\n",
      "        \"FKP\": 0.859409,\n",
      "        \"GBP\": 0.838701,\n",
      "        \"GEL\": 2.823586,\n",
      "        \"GGP\": 0.859409,\n",
      "        \"GHS\": 8.566791,\n",
      "        \"GIP\": 0.859409,\n",
      "        \"GMD\": 55.145235,\n",
      "        \"GNF\": 8801.374177,\n",
      "        \"GTQ\": 7.865168,\n",
      "        \"GYD\": 212.740189,\n",
      "        \"HKD\": 8.008539,\n",
      "        \"HNL\": 25.015493,\n",
      "        \"HRK\": 7.513966,\n",
      "        \"HTG\": 116.658666,\n",
      "        \"HUF\": 403.29644,\n",
      "        \"IDR\": 15266.825488,\n",
      "        \"ILS\": 3.491733,\n",
      "        \"IMP\": 0.859409,\n",
      "        \"INR\": 81.37858,\n",
      "        \"IQD\": 1483.961899,\n",
      "        \"IRR\": 43259.347087,\n",
      "        \"ISK\": 138.878866,\n",
      "        \"JEP\": 0.859409,\n",
      "        \"JMD\": 155.685896,\n",
      "        \"JOD\": 0.723384,\n",
      "        \"JPY\": 138.078427,\n",
      "        \"KES\": 120.748576,\n",
      "        \"KGS\": 84.037811,\n",
      "        \"KHR\": 4166.853019,\n",
      "        \"KMF\": 495.875529,\n",
      "        \"KPW\": 918.240846,\n",
      "        \"KRW\": 1330.143042,\n",
      "        \"KWD\": 0.31363,\n",
      "        \"KYD\": 0.847294,\n",
      "        \"KZT\": 486.27519,\n",
      "        \"LAK\": 15328.398602,\n",
      "        \"LBP\": 1537.381328,\n",
      "        \"LKR\": 366.040172,\n",
      "        \"LRD\": 155.591042,\n",
      "        \"LSL\": 17.16039,\n",
      "        \"LTL\": 3.012585,\n",
      "        \"LVL\": 0.61715,\n",
      "        \"LYD\": 4.956885,\n",
      "        \"MAD\": 10.480327,\n",
      "        \"MDL\": 19.649187,\n",
      "        \"MGA\": 4283.996399,\n",
      "        \"MKD\": 61.702547,\n",
      "        \"MMK\": 1882.563942,\n",
      "        \"MNT\": 3208.394754,\n",
      "        \"MOP\": 8.220722,\n",
      "        \"MRO\": 364.235363,\n",
      "        \"MUR\": 45.602799,\n",
      "        \"MVR\": 15.774939,\n",
      "        \"MWK\": 1043.362158,\n",
      "        \"MXN\": 20.804665,\n",
      "        \"MYR\": 4.546327,\n",
      "        \"MZN\": 65.12394,\n",
      "        \"NAD\": 17.168553,\n",
      "        \"NGN\": 424.064234,\n",
      "        \"NIO\": 36.508158,\n",
      "        \"NOK\": 9.930057,\n",
      "        \"NPR\": 129.952384,\n",
      "        \"NZD\": 1.629675,\n",
      "        \"OMR\": 0.392844,\n",
      "        \"PAB\": 1.016748,\n",
      "        \"PEN\": 3.9883,\n",
      "        \"PGK\": 3.58352,\n",
      "        \"PHP\": 56.758457,\n",
      "        \"PKR\": 240.213775,\n",
      "        \"PLN\": 4.784239,\n",
      "        \"PYG\": 7001.565612,\n",
      "        \"QAR\": 3.714539,\n",
      "        \"RON\": 4.914727,\n",
      "        \"RSD\": 117.350874,\n",
      "        \"RUB\": 60.578442,\n",
      "        \"RWF\": 1043.520609,\n",
      "        \"SAR\": 3.83192,\n",
      "        \"SBD\": 8.325352,\n",
      "        \"SCR\": 13.376559,\n",
      "        \"SDG\": 580.019958,\n",
      "        \"SEK\": 10.425655,\n",
      "        \"SGD\": 1.410357,\n",
      "        \"SHP\": 1.405316,\n",
      "        \"SLL\": 14174.066666,\n",
      "        \"SOS\": 591.754901,\n",
      "        \"SRD\": 24.60733,\n",
      "        \"STD\": 21117.479743,\n",
      "        \"SVC\": 8.896536,\n",
      "        \"SYP\": 2563.452415,\n",
      "        \"SZL\": 17.145459,\n",
      "        \"THB\": 37.401964,\n",
      "        \"TJS\": 10.376628,\n",
      "        \"TMT\": 3.54543,\n",
      "        \"TND\": 3.245452,\n",
      "        \"TOP\": 2.392579,\n",
      "        \"TRY\": 18.233182,\n",
      "        \"TTD\": 6.903928,\n",
      "        \"TWD\": 30.531715,\n",
      "        \"TZS\": 2376.47471,\n",
      "        \"UAH\": 37.534388,\n",
      "        \"UGX\": 3944.751703,\n",
      "        \"USD\": 1.020268,\n",
      "        \"UYU\": 42.396193,\n",
      "        \"UZS\": 11126.096365,\n",
      "        \"VND\": 23846.20486,\n",
      "        \"VUV\": 121.305764,\n",
      "        \"WST\": 2.776118,\n",
      "        \"XAF\": 656.889033,\n",
      "        \"XAG\": 0.053009,\n",
      "        \"XAU\": 0.000588,\n",
      "        \"XCD\": 2.757324,\n",
      "        \"XDR\": 0.772889,\n",
      "        \"XOF\": 656.882586,\n",
      "        \"XPF\": 120.899642,\n",
      "        \"YER\": 255.219937,\n",
      "        \"ZAR\": 17.034235,\n",
      "        \"ZMK\": 9183.639386,\n",
      "        \"ZMW\": 17.132741,\n",
      "        \"ZWL\": 328.525756\n",
      "    }\n",
      "}\n",
      "\n"
     ]
    }
   ],
   "source": [
    "# Write your code here\n",
    "url = \"https://api.apilayer.com/exchangerates_data/latest?base=EUR&apikey=eAH81yX7k3UiIs1SH5em6L7pEqFPFQe2\" #Make sure to change ******* to your API key.\n",
    "data_json = requests.get(url).text\n",
    "print(data_json)"
   ]
  },
  {
   "cell_type": "markdown",
   "metadata": {},
   "source": [
    "### Save as DataFrame\n",
    "\n",
    "<b> Question 2</b>  Using the data gathered turn it into a `pandas` dataframe. The dataframe should have the Currency as the index and `Rate` as their columns. Make sure to drop unnecessary columns.\n"
   ]
  },
  {
   "cell_type": "code",
   "execution_count": 10,
   "metadata": {},
   "outputs": [
    {
     "data": {
      "text/html": [
       "<div>\n",
       "<style scoped>\n",
       "    .dataframe tbody tr th:only-of-type {\n",
       "        vertical-align: middle;\n",
       "    }\n",
       "\n",
       "    .dataframe tbody tr th {\n",
       "        vertical-align: top;\n",
       "    }\n",
       "\n",
       "    .dataframe thead th {\n",
       "        text-align: right;\n",
       "    }\n",
       "</style>\n",
       "<table border=\"1\" class=\"dataframe\">\n",
       "  <thead>\n",
       "    <tr style=\"text-align: right;\">\n",
       "      <th></th>\n",
       "      <th>success</th>\n",
       "      <th>timestamp</th>\n",
       "      <th>base</th>\n",
       "      <th>date</th>\n",
       "      <th>rates</th>\n",
       "    </tr>\n",
       "  </thead>\n",
       "  <tbody>\n",
       "    <tr>\n",
       "      <th>AED</th>\n",
       "      <td>True</td>\n",
       "      <td>2022-07-28 02:41:03</td>\n",
       "      <td>EUR</td>\n",
       "      <td>2022-07-28</td>\n",
       "      <td>3.747542</td>\n",
       "    </tr>\n",
       "    <tr>\n",
       "      <th>AFN</th>\n",
       "      <td>True</td>\n",
       "      <td>2022-07-28 02:41:03</td>\n",
       "      <td>EUR</td>\n",
       "      <td>2022-07-28</td>\n",
       "      <td>92.071539</td>\n",
       "    </tr>\n",
       "    <tr>\n",
       "      <th>ALL</th>\n",
       "      <td>True</td>\n",
       "      <td>2022-07-28 02:41:03</td>\n",
       "      <td>EUR</td>\n",
       "      <td>2022-07-28</td>\n",
       "      <td>116.854655</td>\n",
       "    </tr>\n",
       "    <tr>\n",
       "      <th>AMD</th>\n",
       "      <td>True</td>\n",
       "      <td>2022-07-28 02:41:03</td>\n",
       "      <td>EUR</td>\n",
       "      <td>2022-07-28</td>\n",
       "      <td>413.442826</td>\n",
       "    </tr>\n",
       "    <tr>\n",
       "      <th>ANG</th>\n",
       "      <td>True</td>\n",
       "      <td>2022-07-28 02:41:03</td>\n",
       "      <td>EUR</td>\n",
       "      <td>2022-07-28</td>\n",
       "      <td>1.832482</td>\n",
       "    </tr>\n",
       "    <tr>\n",
       "      <th>...</th>\n",
       "      <td>...</td>\n",
       "      <td>...</td>\n",
       "      <td>...</td>\n",
       "      <td>...</td>\n",
       "      <td>...</td>\n",
       "    </tr>\n",
       "    <tr>\n",
       "      <th>YER</th>\n",
       "      <td>True</td>\n",
       "      <td>2022-07-28 02:41:03</td>\n",
       "      <td>EUR</td>\n",
       "      <td>2022-07-28</td>\n",
       "      <td>255.219937</td>\n",
       "    </tr>\n",
       "    <tr>\n",
       "      <th>ZAR</th>\n",
       "      <td>True</td>\n",
       "      <td>2022-07-28 02:41:03</td>\n",
       "      <td>EUR</td>\n",
       "      <td>2022-07-28</td>\n",
       "      <td>17.034235</td>\n",
       "    </tr>\n",
       "    <tr>\n",
       "      <th>ZMK</th>\n",
       "      <td>True</td>\n",
       "      <td>2022-07-28 02:41:03</td>\n",
       "      <td>EUR</td>\n",
       "      <td>2022-07-28</td>\n",
       "      <td>9183.639386</td>\n",
       "    </tr>\n",
       "    <tr>\n",
       "      <th>ZMW</th>\n",
       "      <td>True</td>\n",
       "      <td>2022-07-28 02:41:03</td>\n",
       "      <td>EUR</td>\n",
       "      <td>2022-07-28</td>\n",
       "      <td>17.132741</td>\n",
       "    </tr>\n",
       "    <tr>\n",
       "      <th>ZWL</th>\n",
       "      <td>True</td>\n",
       "      <td>2022-07-28 02:41:03</td>\n",
       "      <td>EUR</td>\n",
       "      <td>2022-07-28</td>\n",
       "      <td>328.525756</td>\n",
       "    </tr>\n",
       "  </tbody>\n",
       "</table>\n",
       "<p>167 rows × 5 columns</p>\n",
       "</div>"
      ],
      "text/plain": [
       "     success           timestamp base       date        rates\n",
       "AED     True 2022-07-28 02:41:03  EUR 2022-07-28     3.747542\n",
       "AFN     True 2022-07-28 02:41:03  EUR 2022-07-28    92.071539\n",
       "ALL     True 2022-07-28 02:41:03  EUR 2022-07-28   116.854655\n",
       "AMD     True 2022-07-28 02:41:03  EUR 2022-07-28   413.442826\n",
       "ANG     True 2022-07-28 02:41:03  EUR 2022-07-28     1.832482\n",
       "..       ...                 ...  ...        ...          ...\n",
       "YER     True 2022-07-28 02:41:03  EUR 2022-07-28   255.219937\n",
       "ZAR     True 2022-07-28 02:41:03  EUR 2022-07-28    17.034235\n",
       "ZMK     True 2022-07-28 02:41:03  EUR 2022-07-28  9183.639386\n",
       "ZMW     True 2022-07-28 02:41:03  EUR 2022-07-28    17.132741\n",
       "ZWL     True 2022-07-28 02:41:03  EUR 2022-07-28   328.525756\n",
       "\n",
       "[167 rows x 5 columns]"
      ]
     },
     "execution_count": 10,
     "metadata": {},
     "output_type": "execute_result"
    }
   ],
   "source": [
    "# Turn the data into a dataframe\n",
    "df = pd.read_json(data_json)\n",
    "df"
   ]
  },
  {
   "cell_type": "code",
   "execution_count": 11,
   "metadata": {},
   "outputs": [
    {
     "data": {
      "text/html": [
       "<div>\n",
       "<style scoped>\n",
       "    .dataframe tbody tr th:only-of-type {\n",
       "        vertical-align: middle;\n",
       "    }\n",
       "\n",
       "    .dataframe tbody tr th {\n",
       "        vertical-align: top;\n",
       "    }\n",
       "\n",
       "    .dataframe thead th {\n",
       "        text-align: right;\n",
       "    }\n",
       "</style>\n",
       "<table border=\"1\" class=\"dataframe\">\n",
       "  <thead>\n",
       "    <tr style=\"text-align: right;\">\n",
       "      <th></th>\n",
       "      <th>rates</th>\n",
       "    </tr>\n",
       "  </thead>\n",
       "  <tbody>\n",
       "    <tr>\n",
       "      <th>AED</th>\n",
       "      <td>3.747542</td>\n",
       "    </tr>\n",
       "    <tr>\n",
       "      <th>AFN</th>\n",
       "      <td>92.071539</td>\n",
       "    </tr>\n",
       "    <tr>\n",
       "      <th>ALL</th>\n",
       "      <td>116.854655</td>\n",
       "    </tr>\n",
       "    <tr>\n",
       "      <th>AMD</th>\n",
       "      <td>413.442826</td>\n",
       "    </tr>\n",
       "    <tr>\n",
       "      <th>ANG</th>\n",
       "      <td>1.832482</td>\n",
       "    </tr>\n",
       "  </tbody>\n",
       "</table>\n",
       "</div>"
      ],
      "text/plain": [
       "          rates\n",
       "AED    3.747542\n",
       "AFN   92.071539\n",
       "ALL  116.854655\n",
       "AMD  413.442826\n",
       "ANG    1.832482"
      ]
     },
     "execution_count": 11,
     "metadata": {},
     "output_type": "execute_result"
    }
   ],
   "source": [
    "# Drop unnescessary columns\n",
    "transformed_data = df.drop(columns = ['success', 'timestamp', 'base', 'date'])\n",
    "transformed_data.head()"
   ]
  },
  {
   "cell_type": "markdown",
   "metadata": {},
   "source": [
    "### Load the Data\n",
    "\n",
    "Using the dataframe save it as a CSV names `exchange_rates_1.csv`.\n"
   ]
  },
  {
   "cell_type": "code",
   "execution_count": 13,
   "metadata": {},
   "outputs": [],
   "source": [
    "# Save the Dataframe\n",
    "targetfile = 'exchange_rate_1.csv'\n",
    "transformed_data.to_csv(targetfile)"
   ]
  },
  {
   "cell_type": "markdown",
   "metadata": {},
   "source": [
    "Your CSV should be in this format with more currencies\n",
    "\n",
    "|     | Rates      |\n",
    "| --- | ---------- |\n",
    "| AED | 4.398618   |\n",
    "| AFN | 92.917693  |\n",
    "| ALL | 123.099093 |\n",
    "| AMD | 621.935674 |\n",
    "| ANG | 2.149648   |\n"
   ]
  },
  {
   "cell_type": "markdown",
   "metadata": {},
   "source": [
    "## Authors\n"
   ]
  },
  {
   "cell_type": "markdown",
   "metadata": {},
   "source": [
    "Ramesh Sannareddy, Joseph Santarcangelo and Azim Hirjani\n"
   ]
  },
  {
   "cell_type": "markdown",
   "metadata": {},
   "source": [
    "### Other Contributors\n"
   ]
  },
  {
   "cell_type": "markdown",
   "metadata": {},
   "source": [
    "Rav Ahuja\n"
   ]
  },
  {
   "cell_type": "markdown",
   "metadata": {},
   "source": [
    "## Change Log\n"
   ]
  },
  {
   "cell_type": "markdown",
   "metadata": {},
   "source": [
    "| Date (YYYY-MM-DD) | Version | Changed By        | Change Description                              |\n",
    "| ----------------- | ------- | ----------------- | ----------------------------------------------- |\n",
    "| 2022-05-06        | 0.3     | Malika            | Updated instructions to get the API and the url |\n",
    "| 2021-04-15        | 0.2     | Malika            | Updated the lab from USD to EUR                 |\n",
    "| 2020-11-25        | 0.1     | Ramesh Sannareddy | Created initial version of the lab              |\n"
   ]
  },
  {
   "cell_type": "markdown",
   "metadata": {},
   "source": [
    "Copyright © 2020 IBM Corporation. This notebook and its source code are released under the terms of the [MIT License](https://cognitiveclass.ai/mit-license?utm_medium=Exinfluencer&utm_source=Exinfluencer&utm_content=000026UJ&utm_term=10006555&utm_id=NA-SkillsNetwork-Channel-SkillsNetworkCoursesIBMDeveloperSkillsNetworkPY0221ENSkillsNetwork23455645-2022-01-01&cm_mmc=Email_Newsletter-\\_-Developer_Ed%2BTech-\\_-WW_WW-\\_-SkillsNetwork-Courses-IBM-DA0321EN-SkillsNetwork-21426264&cm_mmca1=000026UJ&cm_mmca2=10006555&cm_mmca3=M12345678&cvosrc=email.Newsletter.M12345678&cvo_campaign=000026UJ).\n"
   ]
  }
 ],
 "metadata": {
  "kernelspec": {
   "display_name": "Python 3 (ipykernel)",
   "language": "python",
   "name": "python3"
  },
  "language_info": {
   "codemirror_mode": {
    "name": "ipython",
    "version": 3
   },
   "file_extension": ".py",
   "mimetype": "text/x-python",
   "name": "python",
   "nbconvert_exporter": "python",
   "pygments_lexer": "ipython3",
   "version": "3.9.7"
  }
 },
 "nbformat": 4,
 "nbformat_minor": 4
}
